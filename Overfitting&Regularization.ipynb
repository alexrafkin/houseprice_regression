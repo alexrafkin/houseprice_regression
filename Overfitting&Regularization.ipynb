{
  "nbformat": 4,
  "nbformat_minor": 0,
  "metadata": {
    "colab": {
      "name": "Overfitting&Regularization.ipynb",
      "provenance": [],
      "authorship_tag": "ABX9TyPocmwIROuni1Iuioqm+Yk1",
      "include_colab_link": true
    },
    "kernelspec": {
      "name": "python3",
      "display_name": "Python 3"
    }
  },
  "cells": [
    {
      "cell_type": "markdown",
      "metadata": {
        "id": "view-in-github",
        "colab_type": "text"
      },
      "source": [
        "<a href=\"https://colab.research.google.com/github/alexrafkin/houseprice_regression/blob/main/Overfitting%26Regularization.ipynb\" target=\"_parent\"><img src=\"https://colab.research.google.com/assets/colab-badge.svg\" alt=\"Open In Colab\"/></a>"
      ]
    },
    {
      "cell_type": "markdown",
      "metadata": {
        "id": "CWG1Px-vTWY6"
      },
      "source": [
        "# House Prices Model"
      ]
    },
    {
      "cell_type": "code",
      "metadata": {
        "id": "buGTFuY2FJ_Y",
        "colab": {
          "base_uri": "https://localhost:8080/"
        },
        "outputId": "00a7d6bf-5e0d-4aec-f36b-fa39e1b83d02"
      },
      "source": [
        "import pandas as pd\n",
        "import numpy as np\n",
        "import matplotlib\n",
        "import matplotlib.pyplot as plt\n",
        "import seaborn as sns\n",
        "import scipy.stats as stats\n",
        "from scipy.stats.mstats import winsorize\n",
        "from sklearn import linear_model\n",
        "from sqlalchemy import create_engine\n",
        "from sklearn.model_selection import train_test_split\n",
        "from sklearn.metrics import mean_absolute_error\n",
        "import statsmodels.api as sm\n",
        "from statsmodels.tools.eval_measures import mse, rmse\n",
        "from sklearn.linear_model import LinearRegression\n",
        "from sklearn.linear_model import RidgeCV, LassoCV, ElasticNetCV\n",
        "\n",
        "import warnings\n",
        "warnings.filterwarnings('ignore')"
      ],
      "execution_count": null,
      "outputs": [
        {
          "output_type": "stream",
          "text": [
            "/usr/local/lib/python3.6/dist-packages/statsmodels/tools/_testing.py:19: FutureWarning: pandas.util.testing is deprecated. Use the functions in the public API at pandas.testing instead.\n",
            "  import pandas.util.testing as tm\n"
          ],
          "name": "stderr"
        }
      ]
    },
    {
      "cell_type": "code",
      "metadata": {
        "id": "O5lhr9etSMrn"
      },
      "source": [
        "postgres_user = 'dsbc_student'\n",
        "postgres_pw = '7*.8G9QH21'\n",
        "postgres_host = '142.93.121.174'\n",
        "postgres_port = '5432'\n",
        "postgres_db = 'houseprices'\n",
        "\n",
        "engine = create_engine('postgresql://{}:{}@{}:{}/{}'.format(\n",
        "    postgres_user, postgres_pw, postgres_host, postgres_port, postgres_db))\n",
        "\n",
        "houseprices = pd.read_sql_query('select * from houseprices',con=engine)\n",
        "\n",
        "engine.dispose()"
      ],
      "execution_count": null,
      "outputs": []
    },
    {
      "cell_type": "code",
      "metadata": {
        "id": "ohagTf03ThYv"
      },
      "source": [
        "houseprices = pd.concat([houseprices, pd.get_dummies(houseprices['neighborhood'])], axis=1, sort=False)\n",
        "prices = houseprices[['saleprice', 'overallqual','grlivarea','garagecars','firstflrsf','NoRidge']]\n",
        "prices[['exterqual_Ex','exterqual_Fa','exterqual_Gd','exterqual_TA']] = pd.get_dummies(houseprices['exterqual'])\n",
        "log_list = ['firstflrsf','grlivarea','saleprice']\n",
        "for col in log_list:\n",
        "  prices['log_{}'.format(col)] = np.log(prices[col])\n",
        "prices = prices.drop(['firstflrsf','grlivarea','exterqual_Fa'], axis=1)"
      ],
      "execution_count": null,
      "outputs": []
    },
    {
      "cell_type": "code",
      "metadata": {
        "colab": {
          "base_uri": "https://localhost:8080/"
        },
        "id": "lZjNNK1mDUq3",
        "outputId": "3ecb4f95-d369-4a9b-9d1e-8ab069871081"
      },
      "source": [
        "Y = prices['saleprice']\n",
        "# `X` is the feature set which includes the\n",
        "# `is_male` and `is_smoker` variables\n",
        "X = prices[['overallqual','garagecars','log_firstflrsf','log_grlivarea','exterqual_Ex','exterqual_TA','exterqual_Gd']]\n",
        "X['qual*area'] = X.overallqual * X.log_grlivarea\n",
        "X['exterqual_Ex*cars'] = X.garagecars * X.exterqual_Ex\n",
        "\n",
        "X_train, X_test, y_train, y_test = train_test_split(X, Y, test_size = 0.2, random_state = 465)\n",
        "\n",
        "print(\"The number of observations in training set is {}\".format(X_train.shape[0]))\n",
        "print(\"The number of observations in test set is {}\".format(X_test.shape[0]))\n",
        "\n",
        "alphas = [np.power(10.0,p) for p in np.arange(-10,40,1)]"
      ],
      "execution_count": null,
      "outputs": [
        {
          "output_type": "stream",
          "text": [
            "The number of observations in training set is 1168\n",
            "The number of observations in test set is 292\n"
          ],
          "name": "stdout"
        }
      ]
    },
    {
      "cell_type": "markdown",
      "metadata": {
        "id": "OGpV0DBf7Hh1"
      },
      "source": [
        "#OLS"
      ]
    },
    {
      "cell_type": "code",
      "metadata": {
        "colab": {
          "base_uri": "https://localhost:8080/"
        },
        "id": "FOThHB10-B8l",
        "outputId": "6910827e-4d60-47d2-decd-497f52ef0bef"
      },
      "source": [
        "# Fit an OLS model using scikit-learn\n",
        "lrm = LinearRegression()\n",
        "lrm.fit(X_train, y_train)\n",
        "\n",
        "\n",
        "# You are making predictions here\n",
        "y_preds_train = lrm.predict(X_train)\n",
        "y_preds_test = lrm.predict(X_test)\n",
        "\n",
        "print(\"R-squared of the model in the training set is: {}\".format(lrm.score(X_train, y_train)))\n",
        "print(\"-----Test set statistics-----\")\n",
        "print(\"R-squared of the model in the test set is: {}\".format(lrm.score(X_test, y_test)))\n",
        "print(\"Mean absolute error of the prediction is: {}\".format(mean_absolute_error(y_test, y_preds_test)))\n",
        "print(\"Mean squared error of the prediction is: {}\".format(mse(y_test, y_preds_test)))\n",
        "print(\"Root mean squared error of the prediction is: {}\".format(rmse(y_test, y_preds_test)))\n",
        "print(\"Mean absolute percentage error of the prediction is: {}\".format(np.mean(np.abs((y_test - y_preds_test) / y_test)) * 100))"
      ],
      "execution_count": null,
      "outputs": [
        {
          "output_type": "stream",
          "text": [
            "R-squared of the model in the training set is: 0.8057967351740991\n",
            "-----Test set statistics-----\n",
            "R-squared of the model in the test set is: 0.8164470841106701\n",
            "Mean absolute error of the prediction is: 23225.61203330008\n",
            "Mean squared error of the prediction is: 1232319960.1320136\n",
            "Root mean squared error of the prediction is: 35104.41510881521\n",
            "Mean absolute percentage error of the prediction is: 13.77063674576265\n"
          ],
          "name": "stdout"
        }
      ]
    },
    {
      "cell_type": "markdown",
      "metadata": {
        "id": "f0n65e4f7LmW"
      },
      "source": [
        "#Lasso"
      ]
    },
    {
      "cell_type": "code",
      "metadata": {
        "colab": {
          "base_uri": "https://localhost:8080/"
        },
        "id": "RZjf3qor8m9h",
        "outputId": "3b06178c-888e-49a7-e738-df65438d1228"
      },
      "source": [
        "from sklearn.linear_model import Lasso\n",
        "\n",
        "lasso_cv = LassoCV(alphas=alphas, cv=5)\n",
        "lasso_cv.fit(X_train, y_train)\n",
        "\n",
        "# You are making predictions here\n",
        "y_preds_train = lasso_cv.predict(X_train)\n",
        "y_preds_test = lasso_cv.predict(X_test)\n",
        "\n",
        "print('Best alpha value is: {}'.format(lasso_cv.alpha_))\n",
        "print(\"R-squared of the model on the training set is: {}\".format(lasso_cv.score(X_train, y_train)))\n",
        "print(\"-----Test set statistics-----\")\n",
        "print(\"R-squared of the model on the test set is: {}\".format(lasso_cv.score(X_test, y_test)))\n",
        "print(\"Mean absolute error of the prediction is: {}\".format(mean_absolute_error(y_test, y_preds_test)))\n",
        "print(\"Mean squared error of the prediction is: {}\".format(mse(y_test, y_preds_test)))\n",
        "print(\"Root mean squared error of the prediction is: {}\".format(rmse(y_test, y_preds_test)))\n",
        "print(\"Mean absolute percentage error of the prediction is: {}\".format(np.mean(np.abs((y_test - y_preds_test) / y_test)) * 100))"
      ],
      "execution_count": null,
      "outputs": [
        {
          "output_type": "stream",
          "text": [
            "Best alpha value is: 100.0\n",
            "R-squared of the model on the training set is: 0.8010972887755711\n",
            "-----Test set statistics-----\n",
            "R-squared of the model on the test set is: 0.8047240377500139\n",
            "Mean absolute error of the prediction is: 23723.51234933219\n",
            "Mean squared error of the prediction is: 1311025024.3027189\n",
            "Root mean squared error of the prediction is: 36208.07954452596\n",
            "Mean absolute percentage error of the prediction is: 13.997406732788868\n"
          ],
          "name": "stdout"
        }
      ]
    },
    {
      "cell_type": "markdown",
      "metadata": {
        "id": "e4EYGty17OqS"
      },
      "source": [
        "#Ridge"
      ]
    },
    {
      "cell_type": "code",
      "metadata": {
        "colab": {
          "base_uri": "https://localhost:8080/"
        },
        "id": "C_oBUNmpAH51",
        "outputId": "667fc8ef-3f97-4168-bc27-1848f0cd95e0"
      },
      "source": [
        "from sklearn.linear_model import Ridge\n",
        "\n",
        "ridge_cv = RidgeCV(alphas=alphas, cv=5)\n",
        "ridge_cv.fit(X_train, y_train)\n",
        "\n",
        "# You are making predictions here\n",
        "y_preds_train = ridge_cv.predict(X_train)\n",
        "y_preds_test = ridge_cv.predict(X_test)\n",
        "\n",
        "print('Best alpha value is: {}'.format(ridge_cv.alpha_))\n",
        "print(\"R-squared of the model on the training set is: {}\".format(ridge_cv.score(X_train, y_train)))\n",
        "print(\"-----Test set statistics-----\")\n",
        "print(\"R-squared of the model on the test set is: {}\".format(ridge_cv.score(X_test, y_test)))\n",
        "print(\"Mean absolute error of the prediction is: {}\".format(mean_absolute_error(y_test, y_preds_test)))\n",
        "print(\"Mean squared error of the prediction is: {}\".format(mse(y_test, y_preds_test)))\n",
        "print(\"Root mean squared error of the prediction is: {}\".format(rmse(y_test, y_preds_test)))\n",
        "print(\"Mean absolute percentage error of the prediction is: {}\".format(np.mean(np.abs((y_test - y_preds_test) / y_test)) * 100))\n"
      ],
      "execution_count": null,
      "outputs": [
        {
          "output_type": "stream",
          "text": [
            "Best alpha value is: 1.0\n",
            "R-squared of the model on the training set is: 0.8045236559255067\n",
            "-----Test set statistics-----\n",
            "R-squared of the model on the test set is: 0.8108274532655666\n",
            "Mean absolute error of the prediction is: 23423.977709252198\n",
            "Mean squared error of the prediction is: 1270048498.6596725\n",
            "Root mean squared error of the prediction is: 35637.739808518614\n",
            "Mean absolute percentage error of the prediction is: 13.82805486620613\n"
          ],
          "name": "stdout"
        }
      ]
    },
    {
      "cell_type": "markdown",
      "metadata": {
        "id": "f_drqAyF7QZ1"
      },
      "source": [
        "#Elastic Net"
      ]
    },
    {
      "cell_type": "code",
      "metadata": {
        "colab": {
          "base_uri": "https://localhost:8080/"
        },
        "id": "64JUBQQrArlO",
        "outputId": "67d3aaa5-6e67-4b74-9005-11591f41be11"
      },
      "source": [
        "from sklearn.linear_model import ElasticNet\n",
        "\n",
        "EN_cv = ElasticNetCV(alphas=alphas, cv=5)\n",
        "EN_cv.fit(X_train, y_train)\n",
        "\n",
        "# You are making predictions here\n",
        "y_preds_train = EN_cv.predict(X_train)\n",
        "y_preds_test = EN_cv.predict(X_test)\n",
        "\n",
        "print('Best alpha value is: {}'.format(EN_cv.alpha_))\n",
        "print(\"R-squared of the model on the training set is: {}\".format(EN_cv.score(X_train, y_train)))\n",
        "print(\"-----Test set statistics-----\")\n",
        "print(\"R-squared of the model on the test set is: {}\".format(EN_cv.score(X_test, y_test)))\n",
        "print(\"Mean absolute error of the prediction is: {}\".format(mean_absolute_error(y_test, y_preds_test)))\n",
        "print(\"Mean squared error of the prediction is: {}\".format(mse(y_test, y_preds_test)))\n",
        "print(\"Root mean squared error of the prediction is: {}\".format(rmse(y_test, y_preds_test)))\n",
        "print(\"Mean absolute percentage error of the prediction is: {}\".format(np.mean(np.abs((y_test - y_preds_test) / y_test)) * 100))"
      ],
      "execution_count": null,
      "outputs": [
        {
          "output_type": "stream",
          "text": [
            "Best alpha value is: 0.001\n",
            "R-squared of the model on the training set is: 0.8046992209529641\n",
            "-----Test set statistics-----\n",
            "R-squared of the model on the test set is: 0.8103529498597858\n",
            "Mean absolute error of the prediction is: 23445.215123569913\n",
            "Mean squared error of the prediction is: 1273234174.1105971\n",
            "Root mean squared error of the prediction is: 35682.407067217275\n",
            "Mean absolute percentage error of the prediction is: 13.836464423750824\n"
          ],
          "name": "stdout"
        }
      ]
    },
    {
      "cell_type": "code",
      "metadata": {
        "colab": {
          "base_uri": "https://localhost:8080/"
        },
        "id": "kX6yIjX1Jwke",
        "outputId": "b40b596b-0711-4c58-be6f-08a91a45afea"
      },
      "source": [
        "print('\\nCoefficients: \\n', lrm.coef_)\n",
        "print('\\nIntercept: \\n', lrm.intercept_)"
      ],
      "execution_count": null,
      "outputs": [
        {
          "output_type": "stream",
          "text": [
            "\n",
            "Coefficients: \n",
            " [-158207.78304039   14623.14735193   38462.1406215   -88380.42647209\n",
            " -106568.33840703   11328.86788154   28718.31488022   24485.10367932\n",
            "   63120.73186436]\n",
            "\n",
            "Intercept: \n",
            " 381278.1113097122\n"
          ],
          "name": "stdout"
        }
      ]
    },
    {
      "cell_type": "code",
      "metadata": {
        "colab": {
          "base_uri": "https://localhost:8080/"
        },
        "id": "2jekw5fiJ6a0",
        "outputId": "09cb0549-b8ba-48b5-d2b1-a057c15682e8"
      },
      "source": [
        "print('\\nCoefficients: \\n', lasso_cv.coef_)\n",
        "print('\\nIntercept: \\n', lasso_cv.intercept_)"
      ],
      "execution_count": null,
      "outputs": [
        {
          "output_type": "stream",
          "text": [
            "\n",
            "Coefficients: \n",
            " [-108258.68296278   15183.93411722   36118.42068538  -46079.92722335\n",
            "   -3910.775866         0.           16982.08233085   17657.714719\n",
            "   24752.0879547 ]\n",
            "\n",
            "Intercept: \n",
            " 100177.60906233844\n"
          ],
          "name": "stdout"
        }
      ]
    },
    {
      "cell_type": "code",
      "metadata": {
        "colab": {
          "base_uri": "https://localhost:8080/"
        },
        "id": "OV3pHqnRKBoJ",
        "outputId": "e9e52935-477b-476e-efd1-03ac01e1023a"
      },
      "source": [
        "print('\\nCoefficients: \\n', ridge_cv.coef_)\n",
        "print('\\nIntercept: \\n', ridge_cv.intercept_)"
      ],
      "execution_count": null,
      "outputs": [
        {
          "output_type": "stream",
          "text": [
            "\n",
            "Coefficients: \n",
            " [-128336.27676944   14882.34067684   37423.8886722   -63367.87579375\n",
            "  -57534.00419683    8852.71360479   26287.55680408   20391.46359732\n",
            "   46279.67351183]\n",
            "\n",
            "Intercept: \n",
            " 208942.54568868218\n"
          ],
          "name": "stdout"
        }
      ]
    },
    {
      "cell_type": "code",
      "metadata": {
        "colab": {
          "base_uri": "https://localhost:8080/"
        },
        "id": "nSs1ffT0KGDu",
        "outputId": "95a9e2f3-6494-4728-fb03-12e3b0aa619e"
      },
      "source": [
        "print('\\nCoefficients: \\n', EN_cv.coef_)\n",
        "print('\\nIntercept: \\n', EN_cv.intercept_)"
      ],
      "execution_count": null,
      "outputs": [
        {
          "output_type": "stream",
          "text": [
            "\n",
            "Coefficients: \n",
            " [-127027.31326585   14829.27618995   37794.44113217  -62635.64134207\n",
            "  -70718.35215066    8460.72972204   26067.06651882   20211.68339705\n",
            "   50968.15232533]\n",
            "\n",
            "Intercept: \n",
            " 201486.28272857302\n"
          ],
          "name": "stdout"
        }
      ]
    },
    {
      "cell_type": "markdown",
      "metadata": {
        "id": "BF460mPiBEeJ"
      },
      "source": [
        "#Comparing"
      ]
    },
    {
      "cell_type": "markdown",
      "metadata": {
        "id": "mpXABeEf7DNb"
      },
      "source": [
        "After looking at the test statistics, Lasso is definitely not the best option - it seems like EN and Ridge are very close."
      ]
    },
    {
      "cell_type": "markdown",
      "metadata": {
        "id": "CWXhy2pXCuTG"
      },
      "source": [
        "Also, the error terms are all better in the original model, so it would seem no regularization was needed?"
      ]
    }
  ]
}