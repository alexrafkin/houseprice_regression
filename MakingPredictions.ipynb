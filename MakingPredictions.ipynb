{
  "nbformat": 4,
  "nbformat_minor": 0,
  "metadata": {
    "colab": {
      "name": "MakingPredictions.ipynb",
      "provenance": [],
      "authorship_tag": "ABX9TyMD+z2OoEdIhgosdiebK8JF",
      "include_colab_link": true
    },
    "kernelspec": {
      "name": "python3",
      "display_name": "Python 3"
    }
  },
  "cells": [
    {
      "cell_type": "markdown",
      "metadata": {
        "id": "view-in-github",
        "colab_type": "text"
      },
      "source": [
        "<a href=\"https://colab.research.google.com/github/alexrafkin/houseprice_regression/blob/main/MakingPredictions.ipynb\" target=\"_parent\"><img src=\"https://colab.research.google.com/assets/colab-badge.svg\" alt=\"Open In Colab\"/></a>"
      ]
    },
    {
      "cell_type": "markdown",
      "metadata": {
        "id": "CWG1Px-vTWY6"
      },
      "source": [
        "# House Prices Model"
      ]
    },
    {
      "cell_type": "code",
      "metadata": {
        "id": "buGTFuY2FJ_Y"
      },
      "source": [
        "import pandas as pd\n",
        "import numpy as np\n",
        "import matplotlib\n",
        "import matplotlib.pyplot as plt\n",
        "import seaborn as sns\n",
        "import scipy.stats as stats\n",
        "from scipy.stats.mstats import winsorize\n",
        "from sklearn import linear_model\n",
        "from sqlalchemy import create_engine\n",
        "from sklearn.model_selection import train_test_split\n",
        "from sklearn.metrics import mean_absolute_error\n",
        "import statsmodels.api as sm\n",
        "from statsmodels.tools.eval_measures import mse, rmse"
      ],
      "execution_count": null,
      "outputs": []
    },
    {
      "cell_type": "code",
      "metadata": {
        "id": "O5lhr9etSMrn",
        "colab": {
          "base_uri": "https://localhost:8080/"
        },
        "outputId": "b43f7fd6-88f1-45b6-c3f0-c6388eca7463"
      },
      "source": [
        "postgres_user = 'dsbc_student'\n",
        "postgres_pw = '7*.8G9QH21'\n",
        "postgres_host = '142.93.121.174'\n",
        "postgres_port = '5432'\n",
        "postgres_db = 'houseprices'\n",
        "\n",
        "engine = create_engine('postgresql://{}:{}@{}:{}/{}'.format(\n",
        "    postgres_user, postgres_pw, postgres_host, postgres_port, postgres_db))\n",
        "\n",
        "houseprices = pd.read_sql_query('select * from houseprices',con=engine)\n",
        "\n",
        "engine.dispose()"
      ],
      "execution_count": null,
      "outputs": [
        {
          "output_type": "stream",
          "text": [
            "/usr/local/lib/python3.6/dist-packages/psycopg2/__init__.py:144: UserWarning: The psycopg2 wheel package will be renamed from release 2.8; in order to keep installing from binary please use \"pip install psycopg2-binary\" instead. For details see: <http://initd.org/psycopg/docs/install.html#binary-install-from-pypi>.\n",
            "  \"\"\")\n"
          ],
          "name": "stderr"
        }
      ]
    },
    {
      "cell_type": "code",
      "metadata": {
        "colab": {
          "base_uri": "https://localhost:8080/"
        },
        "id": "ohagTf03ThYv",
        "outputId": "16a13d3e-10f3-4507-d6ea-8498f040d9e8"
      },
      "source": [
        "houseprices = pd.concat([houseprices, pd.get_dummies(houseprices['neighborhood'])], axis=1, sort=False)\n",
        "prices = houseprices[['saleprice', 'overallqual','grlivarea','garagecars','firstflrsf','NoRidge']]\n",
        "prices[['exterqual_Ex','exterqual_Fa','exterqual_Gd','exterqual_TA']] = pd.get_dummies(houseprices['exterqual'])\n",
        "log_list = ['firstflrsf','grlivarea','saleprice']\n",
        "for col in log_list:\n",
        "  prices['log_{}'.format(col)] = np.log(prices[col])\n",
        "prices = prices.drop(['firstflrsf','grlivarea','exterqual_Fa'], axis=1)"
      ],
      "execution_count": null,
      "outputs": [
        {
          "output_type": "stream",
          "text": [
            "/usr/local/lib/python3.6/dist-packages/pandas/core/frame.py:3069: SettingWithCopyWarning: \n",
            "A value is trying to be set on a copy of a slice from a DataFrame.\n",
            "Try using .loc[row_indexer,col_indexer] = value instead\n",
            "\n",
            "See the caveats in the documentation: https://pandas.pydata.org/pandas-docs/stable/user_guide/indexing.html#returning-a-view-versus-a-copy\n",
            "  self[k1] = value[k2]\n",
            "/usr/local/lib/python3.6/dist-packages/ipykernel_launcher.py:6: SettingWithCopyWarning: \n",
            "A value is trying to be set on a copy of a slice from a DataFrame.\n",
            "Try using .loc[row_indexer,col_indexer] = value instead\n",
            "\n",
            "See the caveats in the documentation: https://pandas.pydata.org/pandas-docs/stable/user_guide/indexing.html#returning-a-view-versus-a-copy\n",
            "  \n"
          ],
          "name": "stderr"
        }
      ]
    },
    {
      "cell_type": "code",
      "metadata": {
        "colab": {
          "base_uri": "https://localhost:8080/"
        },
        "id": "bCOv5CsYX7H0",
        "outputId": "795329a4-bf73-4878-d12f-bf281877f6db"
      },
      "source": [
        "# `Y` is the target variable\n",
        "Y = prices['saleprice']\n",
        "# `X` is the feature set which includes the\n",
        "# `is_male` and `is_smoker` variables\n",
        "X = prices[['overallqual','garagecars','log_firstflrsf','log_grlivarea','exterqual_Ex']]\n",
        "\n",
        "X_train, X_test, y_train, y_test = train_test_split(X, Y, test_size = 0.2, random_state = 465)\n",
        "\n",
        "print(\"The number of observations in training set is {}\".format(X_train.shape[0]))\n",
        "print(\"The number of observations in test set is {}\".format(X_test.shape[0]))"
      ],
      "execution_count": null,
      "outputs": [
        {
          "output_type": "stream",
          "text": [
            "The number of observations in training set is 1168\n",
            "The number of observations in test set is 292\n"
          ],
          "name": "stdout"
        }
      ]
    },
    {
      "cell_type": "code",
      "metadata": {
        "colab": {
          "base_uri": "https://localhost:8080/"
        },
        "id": "v5FOwJbunscz",
        "outputId": "1c11e311-f96a-4947-f80c-94d2621a7840"
      },
      "source": [
        "X_train = sm.add_constant(X_train)\n",
        "# Fit an OLS model using statsmodels\n",
        "results = sm.OLS(y_train, X_train).fit()\n",
        "\n",
        "# Print the summary results\n",
        "print(results.summary())"
      ],
      "execution_count": null,
      "outputs": [
        {
          "output_type": "stream",
          "text": [
            "                            OLS Regression Results                            \n",
            "==============================================================================\n",
            "Dep. Variable:              saleprice   R-squared:                       0.765\n",
            "Model:                            OLS   Adj. R-squared:                  0.764\n",
            "Method:                 Least Squares   F-statistic:                     757.3\n",
            "Date:                Sat, 19 Dec 2020   Prob (F-statistic):               0.00\n",
            "Time:                        16:08:34   Log-Likelihood:                -13979.\n",
            "No. Observations:                1168   AIC:                         2.797e+04\n",
            "Df Residuals:                    1162   BIC:                         2.800e+04\n",
            "Df Model:                           5                                         \n",
            "Covariance Type:            nonrobust                                         \n",
            "==================================================================================\n",
            "                     coef    std err          t      P>|t|      [0.025      0.975]\n",
            "----------------------------------------------------------------------------------\n",
            "const          -6.663e+05   3.32e+04    -20.054      0.000   -7.31e+05   -6.01e+05\n",
            "overallqual     2.434e+04   1210.190     20.114      0.000     2.2e+04    2.67e+04\n",
            "garagecars      1.821e+04   1972.789      9.233      0.000    1.43e+04    2.21e+04\n",
            "log_firstflrsf   3.77e+04   4357.787      8.651      0.000    2.91e+04    4.62e+04\n",
            "log_grlivarea   5.499e+04   4644.592     11.840      0.000    4.59e+04    6.41e+04\n",
            "exterqual_Ex    6.037e+04   6479.412      9.317      0.000    4.77e+04    7.31e+04\n",
            "==============================================================================\n",
            "Omnibus:                      317.287   Durbin-Watson:                   1.870\n",
            "Prob(Omnibus):                  0.000   Jarque-Bera (JB):             8878.388\n",
            "Skew:                           0.623   Prob(JB):                         0.00\n",
            "Kurtosis:                      16.449   Cond. No.                         358.\n",
            "==============================================================================\n",
            "\n",
            "Warnings:\n",
            "[1] Standard Errors assume that the covariance matrix of the errors is correctly specified.\n"
          ],
          "name": "stdout"
        }
      ]
    },
    {
      "cell_type": "markdown",
      "metadata": {
        "id": "Brs9JtOon7IX"
      },
      "source": [
        "R^2 terms are around 0.765, which is pretty good. F-stat is high w 0 p-val, and AIC&BIC are both high. Seems like a pretty good fit without overfitting."
      ]
    },
    {
      "cell_type": "code",
      "metadata": {
        "colab": {
          "base_uri": "https://localhost:8080/",
          "height": 363
        },
        "id": "YZbJeG2rn2NL",
        "outputId": "a19f98eb-48c6-4b07-894e-d589093cf227"
      },
      "source": [
        "# Add a constant to the model because it's best practice\n",
        "# to do so every time!\n",
        "X_test = sm.add_constant(X_test)\n",
        "\n",
        "# You are making predictions here\n",
        "y_preds = results.predict(X_test)\n",
        "\n",
        "plt.scatter(y_test, y_preds)\n",
        "plt.plot(y_test, y_test, color=\"red\")\n",
        "plt.xlabel(\"true values\")\n",
        "plt.ylabel(\"predicted values\")\n",
        "plt.title(\"Charges: true and predicted values\")\n",
        "plt.show()\n",
        "\n",
        "print(\"Mean absolute error of the prediction is: {}\".format(mean_absolute_error(y_test, y_preds)))\n",
        "print(\"Mean squared error of the prediction is: {}\".format(mse(y_test, y_preds)))\n",
        "print(\"Root mean squared error of the prediction is: {}\".format(rmse(y_test, y_preds)))\n",
        "print(\"Mean absolute percentage error of the prediction is: {}\".format(np.mean(np.abs((y_test - y_preds) / y_test)) * 100))"
      ],
      "execution_count": null,
      "outputs": [
        {
          "output_type": "display_data",
          "data": {
            "image/png": "[encoded data removed]",
            "text/plain": [
              "<Figure size 432x288 with 1 Axes>"
            ]
          },
          "metadata": {
            "tags": [],
            "needs_background": "light"
          }
        },
        {
          "output_type": "stream",
          "text": [
            "Mean absolute error of the prediction is: 27057.808040028\n",
            "Mean squared error of the prediction is: 1722181062.851061\n",
            "Root mean squared error of the prediction is: 41499.16942362896\n",
            "Mean absolute percentage error of the prediction is: 16.857477440467484\n"
          ],
          "name": "stdout"
        }
      ]
    },
    {
      "cell_type": "markdown",
      "metadata": {
        "id": "xiiF-oPsoJK_"
      },
      "source": [
        "It predicts the lower priced houses well, but then the predicted prices level off - these very expensive houses might have unattributed factors - possibly neighborhood or features like a pool. The MAPE looks pretty good, as does MAE. I would say this model is satisfactory for lower priced homes."
      ]
    },
    {
      "cell_type": "code",
      "metadata": {
        "colab": {
          "base_uri": "https://localhost:8080/"
        },
        "id": "lZjNNK1mDUq3",
        "outputId": "896f36b6-5f30-4697-866d-d958f0b35cf3"
      },
      "source": [
        "Y2 = prices['saleprice']\n",
        "# `X` is the feature set which includes the\n",
        "# `is_male` and `is_smoker` variables\n",
        "X2 = prices[['overallqual','garagecars','log_firstflrsf','log_grlivarea','exterqual_Ex','exterqual_TA','exterqual_Gd']]\n",
        "X2['qual*area'] = X2.overallqual * X2.log_grlivarea\n",
        "X2['exterqual_Ex*cars'] = X2.garagecars * X2.exterqual_Ex\n",
        "\n",
        "X2_train, X2_test, y2_train, y2_test = train_test_split(X2, Y2, test_size = 0.2, random_state = 465)\n",
        "\n",
        "print(\"The number of observations in training set is {}\".format(X2_train.shape[0]))\n",
        "print(\"The number of observations in test set is {}\".format(X2_test.shape[0]))"
      ],
      "execution_count": null,
      "outputs": [
        {
          "output_type": "stream",
          "text": [
            "The number of observations in training set is 1168\n",
            "The number of observations in test set is 292\n"
          ],
          "name": "stdout"
        },
        {
          "output_type": "stream",
          "text": [
            "/usr/local/lib/python3.6/dist-packages/ipykernel_launcher.py:5: SettingWithCopyWarning: \n",
            "A value is trying to be set on a copy of a slice from a DataFrame.\n",
            "Try using .loc[row_indexer,col_indexer] = value instead\n",
            "\n",
            "See the caveats in the documentation: https://pandas.pydata.org/pandas-docs/stable/user_guide/indexing.html#returning-a-view-versus-a-copy\n",
            "  \"\"\"\n",
            "/usr/local/lib/python3.6/dist-packages/ipykernel_launcher.py:6: SettingWithCopyWarning: \n",
            "A value is trying to be set on a copy of a slice from a DataFrame.\n",
            "Try using .loc[row_indexer,col_indexer] = value instead\n",
            "\n",
            "See the caveats in the documentation: https://pandas.pydata.org/pandas-docs/stable/user_guide/indexing.html#returning-a-view-versus-a-copy\n",
            "  \n"
          ],
          "name": "stderr"
        }
      ]
    },
    {
      "cell_type": "code",
      "metadata": {
        "colab": {
          "base_uri": "https://localhost:8080/"
        },
        "id": "qph_qKCapBss",
        "outputId": "060490cc-9326-483c-a623-97b4650fc1d3"
      },
      "source": [
        "X2_train = sm.add_constant(X2_train)\n",
        "# Fit an OLS model using statsmodels\n",
        "results2 = sm.OLS(y2_train, X2_train).fit()\n",
        "\n",
        "# Print the summary results\n",
        "print(results2.summary())"
      ],
      "execution_count": null,
      "outputs": [
        {
          "output_type": "stream",
          "text": [
            "                            OLS Regression Results                            \n",
            "==============================================================================\n",
            "Dep. Variable:              saleprice   R-squared:                       0.806\n",
            "Model:                            OLS   Adj. R-squared:                  0.804\n",
            "Method:                 Least Squares   F-statistic:                     533.9\n",
            "Date:                Sat, 19 Dec 2020   Prob (F-statistic):               0.00\n",
            "Time:                        16:09:31   Log-Likelihood:                -13868.\n",
            "No. Observations:                1168   AIC:                         2.776e+04\n",
            "Df Residuals:                    1158   BIC:                         2.781e+04\n",
            "Df Model:                           9                                         \n",
            "Covariance Type:            nonrobust                                         \n",
            "=====================================================================================\n",
            "                        coef    std err          t      P>|t|      [0.025      0.975]\n",
            "-------------------------------------------------------------------------------------\n",
            "const              3.813e+05    8.9e+04      4.283      0.000    2.07e+05    5.56e+05\n",
            "overallqual       -1.582e+05   1.46e+04    -10.828      0.000   -1.87e+05    -1.3e+05\n",
            "garagecars         1.462e+04   1843.663      7.932      0.000     1.1e+04    1.82e+04\n",
            "log_firstflrsf     3.846e+04   3975.544      9.675      0.000    3.07e+04    4.63e+04\n",
            "log_grlivarea     -8.838e+04   1.25e+04     -7.065      0.000   -1.13e+05   -6.38e+04\n",
            "exterqual_Ex      -1.066e+05   3.19e+04     -3.339      0.001   -1.69e+05   -4.39e+04\n",
            "exterqual_TA       1.133e+04   1.15e+04      0.987      0.324   -1.12e+04    3.38e+04\n",
            "exterqual_Gd       2.872e+04    1.2e+04      2.398      0.017    5218.379    5.22e+04\n",
            "qual*area          2.449e+04   1996.198     12.266      0.000    2.06e+04    2.84e+04\n",
            "exterqual_Ex*cars  6.312e+04   1.08e+04      5.820      0.000    4.18e+04    8.44e+04\n",
            "==============================================================================\n",
            "Omnibus:                      525.082   Durbin-Watson:                   1.906\n",
            "Prob(Omnibus):                  0.000   Jarque-Bera (JB):            31313.808\n",
            "Skew:                          -1.253   Prob(JB):                         0.00\n",
            "Kurtosis:                      28.242   Cond. No.                     4.23e+03\n",
            "==============================================================================\n",
            "\n",
            "Warnings:\n",
            "[1] Standard Errors assume that the covariance matrix of the errors is correctly specified.\n",
            "[2] The condition number is large, 4.23e+03. This might indicate that there are\n",
            "strong multicollinearity or other numerical problems.\n"
          ],
          "name": "stdout"
        }
      ]
    },
    {
      "cell_type": "code",
      "metadata": {
        "colab": {
          "base_uri": "https://localhost:8080/",
          "height": 363
        },
        "id": "MKmqJNXgFzMc",
        "outputId": "58ae22db-f9ff-44e0-a86a-4ea6ed3a0ae3"
      },
      "source": [
        "# Add a constant to the model because it's best practice\n",
        "# to do so every time!\n",
        "X2_test = sm.add_constant(X2_test)\n",
        "\n",
        "# You are making predictions here\n",
        "y2_preds = results2.predict(X2_test)\n",
        "\n",
        "plt.scatter(y2_test, y2_preds)\n",
        "plt.plot(y2_test, y2_test, color=\"red\")\n",
        "plt.xlabel(\"true values\")\n",
        "plt.ylabel(\"predicted values\")\n",
        "plt.title(\"Charges: true and predicted values\")\n",
        "plt.show()\n",
        "\n",
        "print(\"Mean absolute error of the prediction is: {}\".format(mean_absolute_error(y2_test, y2_preds)))\n",
        "print(\"Mean squared error of the prediction is: {}\".format(mse(y2_test, y2_preds)))\n",
        "print(\"Root mean squared error of the prediction is: {}\".format(rmse(y2_test, y2_preds)))\n",
        "print(\"Mean absolute percentage error of the prediction is: {}\".format(np.mean(np.abs((y2_test - y2_preds) / y2_test)) * 100))"
      ],
      "execution_count": null,
      "outputs": [
        {
          "output_type": "display_data",
          "data": {
            "image/png": "[encoded data removed]",
            "text/plain": [
              "<Figure size 432x288 with 1 Axes>"
            ]
          },
          "metadata": {
            "tags": [],
            "needs_background": "light"
          }
        },
        {
          "output_type": "stream",
          "text": [
            "Mean absolute error of the prediction is: 23225.612033300084\n",
            "Mean squared error of the prediction is: 1232319960.1320283\n",
            "Root mean squared error of the prediction is: 35104.41510881542\n",
            "Mean absolute percentage error of the prediction is: 13.770636745762467\n"
          ],
          "name": "stdout"
        }
      ]
    },
    {
      "cell_type": "markdown",
      "metadata": {
        "id": "3aFAbgmusQKE"
      },
      "source": [
        "By adding some interaction terms and the other exterqual classifiers, we have made minor improvements on our predictions."
      ]
    }
  ]
}